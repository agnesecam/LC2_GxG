{
 "cells": [
  {
   "cell_type": "markdown",
   "id": "905e3cee-53de-4476-b7a5-3b9e682778ca",
   "metadata": {},
   "source": [
    "# Fase 1 - SVM con ProfilingUD\n",
    "Sviluppare un classificatore basato su SVM lineari che prende in input una rappresentazione del testo basata solo su informazioni linguistiche non lessicali estratte utilizzando il sistema Profiling-UD. Riportare i seguenti risultati:\n",
    "- valutazione del sistema con un processo di 5-fold cross validation condotto sul training\n",
    "set;\n",
    "- valutazione del sistema sul test set ufficiale del task;\n",
    "- elenco delle 15 feature più importanti per la classificazione"
   ]
  },
  {
   "cell_type": "code",
   "execution_count": 1,
   "id": "0b2e7a31-4dd6-4aaa-b1ca-05088161c5e2",
   "metadata": {},
   "outputs": [],
   "source": [
    "import numpy as np\n",
    "import csv\n",
    "import pandas as pd\n",
    "import matplotlib.pyplot as plt\n",
    "from sklearn.preprocessing import MinMaxScaler\n",
    "from sklearn.svm import LinearSVC\n",
    "from sklearn.model_selection import KFold, cross_val_score\n",
    "from sklearn.metrics import classification_report, confusion_matrix, accuracy_score, ConfusionMatrixDisplay\n",
    "from sklearn.dummy import DummyClassifier"
   ]
  },
  {
   "cell_type": "markdown",
   "id": "09eac9cc-7f8c-40b5-8348-5d4bc0cf1cdf",
   "metadata": {},
   "source": [
    "## Preparazione del dataset"
   ]
  },
  {
   "cell_type": "code",
   "execution_count": 2,
   "id": "62799db7-ffb1-430f-862a-6e6e72a744c5",
   "metadata": {},
   "outputs": [],
   "source": [
    "gold_file_path = \"../data/original/gold/test_CH.gold\"\n",
    "profiling_output_path = '../data/profiling_output/children/linguistic_profile.csv' # risultati analisi linguistica con ProfilingUD"
   ]
  },
  {
   "cell_type": "code",
   "execution_count": 3,
   "id": "5ee7de73-4547-4686-abd2-8fcaea0b33f6",
   "metadata": {},
   "outputs": [],
   "source": [
    "# Caricamento del CSV delle feature linguistiche\n",
    "def load_dataset(src_path):\n",
    "    features_names = None # conterrà i nomi delle feature\n",
    "    documents_info = [] # è un vettore che consiste nella prima colonna del file csv: children/training#66#children#F.conllu di tutti i doc\n",
    "    features = []\n",
    "\n",
    "    # row[0] è ['Filename', 'n_sentences', 'n_tokens', 'tokens_per_sent', 'char_per_tok', 'ttr_lemma_chunks_100', 'ttr_lemma_chunks_200', 'ttr_form_chunks_100', ...\n",
    "    # row[1] è ['children/training#66#children#F.conllu', '21', '396', '18.857142857142858', '4.227528089887641', '0.68', ...\n",
    "    # row[2] è ['children/test#133#children#unknown.conllu', '13', '328', '25.23076923076923', '3.99672131147541', '0.52', ...\n",
    "    # etc ...\n",
    "    \n",
    "    with open(src_path, 'r') as src_file:\n",
    "        csv_reader = csv.reader(src_file, delimiter='\\t')\n",
    "        for row in csv_reader:\n",
    "            if features_names is None: # la prima riga del csv contiene 'Filename' e tutti i nomi delle features (la prima volta che entro nel ciclo ho feature_name ancora inizializzato a None, e quindi uso questa condizione per iniziare a popolare l'array\n",
    "                features_names = row[1:] # estraggo le feature, ovvero salto la prima colonna dove è contenuto il nome del file\n",
    "            else:\n",
    "                documents_info.append(row[0]) # il primo elemento di ogni riga contiene il nome del file children/training#66#children#F.conllu dove sono codificati il genere, lo split e i velori numerici delle feature\n",
    "                features.append([float(el) for el in row[1:]]) # dal secondo elemento in poi ci sono i nomi delle feature perché il primo è il nome del file\n",
    "    return features_names, documents_info, features    "
   ]
  },
  {
   "cell_type": "code",
   "execution_count": 4,
   "id": "1746a766-1f2f-415e-adc0-58a04ae7395d",
   "metadata": {},
   "outputs": [],
   "source": [
    "features_names, documents_info, features = load_dataset(profiling_output_path)\n",
    "# features_name è la prima riga del file csv (quella con i nomi delle features)\n",
    "# documents_info è l'elenco dei nomi dei file con l'#.conllu\n",
    "# features sono i veri valori di TUTTE le feature (di tutti i documenti)"
   ]
  },
  {
   "cell_type": "code",
   "execution_count": 5,
   "id": "f592e92f-4422-4934-9a07-e4ba2ce6c31a",
   "metadata": {},
   "outputs": [
    {
     "name": "stdout",
     "output_type": "stream",
     "text": [
      "Numero features: 140\n",
      "\n",
      "Lista prime dieci features:\n",
      "['n_sentences', 'n_tokens', 'tokens_per_sent', 'char_per_tok', 'ttr_lemma_chunks_100', 'ttr_lemma_chunks_200', 'ttr_form_chunks_100', 'ttr_form_chunks_200', 'upos_dist_ADJ', 'upos_dist_ADP']\n"
     ]
    }
   ],
   "source": [
    "print(\"Numero features: \" + str(len(features_names)))\n",
    "print('\\nLista prime dieci features:')\n",
    "print(features_names[:10])"
   ]
  },
  {
   "cell_type": "code",
   "execution_count": 6,
   "id": "10cfad6d-bd84-444b-a882-aeaa5d4a307d",
   "metadata": {},
   "outputs": [
    {
     "name": "stdout",
     "output_type": "stream",
     "text": [
      "Primo documento:\n",
      "Document info: children/training#66#children#F.conllu\n",
      "Secondo documento:\n",
      "Document info: children/test#133#children#unknown.conllu\n",
      "Nono documento:\n",
      "Document info: children/test#140#children#unknown.conllu\n",
      "\n",
      "\n",
      "Features: [21.0, 396.0, 18.857142857142858, 4.227528089887641, 0.68, 0.565, 0.8, 0.685, 4.292929292929293, 9.090909090909092]\n"
     ]
    }
   ],
   "source": [
    "print('Primo documento:')\n",
    "print(f'Document info: {documents_info[0]}')\n",
    "print('Secondo documento:')\n",
    "print(f'Document info: {documents_info[1]}')\n",
    "print('Nono documento:')\n",
    "print(f'Document info: {documents_info[9]}')\n",
    "print('\\n')\n",
    "# print(\"Features names: \" + str(features_names[:10]))\n",
    "print(f'Features: {features[0][:10]}')"
   ]
  },
  {
   "cell_type": "markdown",
   "id": "5514438b-5923-4867-ae51-96d44d9ae0d9",
   "metadata": {},
   "source": [
    "### Creazione lista delle classi (labels)"
   ]
  },
  {
   "cell_type": "code",
   "execution_count": 7,
   "id": "cb77297c-d539-4d8d-935e-61dbbcd2201f",
   "metadata": {},
   "outputs": [
    {
     "name": "stdout",
     "output_type": "stream",
     "text": [
      "Document info: children/training#66#children#F.conllu\n",
      "Document info senza cartella: training#66#children#F.conllu\n",
      "Document info senza estensione: training#66#children#F\n",
      "Split su #: ['training', '66', 'children', 'F']\n",
      "Label: children\n"
     ]
    }
   ],
   "source": [
    "# Estraggo lo split (training/test), l'ID del testo (66), il genre (children) e il genere (F/M)\n",
    "\n",
    "document_info = documents_info[0] # consideriamo il primo documento profiling_input/training#859#SPORTS#20-29#M.conllu\n",
    "\n",
    "print('Document info:', document_info)\n",
    "\n",
    "document_info = document_info.split('/')[1]\n",
    "print('Document info senza cartella:', document_info)\n",
    "\n",
    "document_info = document_info.split('.')[0]\n",
    "print('Document info senza estensione:', document_info)\n",
    "\n",
    "splitted_document_info = document_info.split('#')\n",
    "print('Split su #:', splitted_document_info)\n",
    "\n",
    "label = splitted_document_info[2]\n",
    "print('Label:', label)"
   ]
  },
  {
   "cell_type": "code",
   "execution_count": 8,
   "id": "638043dd-08a8-42c7-8009-493070de47b4",
   "metadata": {},
   "outputs": [
    {
     "data": {
      "text/plain": [
       "\"\\nfor doc_info in documents_info:\\n    doc_info = doc_info.split('/')[1]\\n    # doc_info = training#66#children#F.conllu\\n    doc_info = doc_info[0:-len('.conllu')]\\n    # doc_info = training#66#children#F\\n    splitted_doc_info = doc_info.split('#')\\n    # splitted_doc_info = ['training', '66', 'children', 'F']\\n    genre = splitted_doc_info[2]\\n    # genre = children\\n    gender = splitted_doc_info[3]\\n    # gender = F\\n\""
      ]
     },
     "execution_count": 8,
     "metadata": {},
     "output_type": "execute_result"
    }
   ],
   "source": [
    "#per capire la cella dopo\n",
    "'''\n",
    "for doc_info in documents_info:\n",
    "    doc_info = doc_info.split('/')[1]\n",
    "    # doc_info = training#66#children#F.conllu\n",
    "    doc_info = doc_info[0:-len('.conllu')]\n",
    "    # doc_info = training#66#children#F\n",
    "    splitted_doc_info = doc_info.split('#')\n",
    "    # splitted_doc_info = ['training', '66', 'children', 'F']\n",
    "    genre = splitted_doc_info[2]\n",
    "    # genre = children\n",
    "    gender = splitted_doc_info[3]\n",
    "    # gender = F\n",
    "'''"
   ]
  },
  {
   "cell_type": "code",
   "execution_count": 9,
   "id": "9517197a-4733-44dc-9840-0438c79ceffc",
   "metadata": {},
   "outputs": [],
   "source": [
    "# Creazione delle etichette dai nomi dei file\n",
    "def create_label_list(documents_info):\n",
    "    labels = []\n",
    "    \n",
    "    for doc_info in documents_info:\n",
    "        doc_info = doc_info.split('/')[1]\n",
    "        # doc_info = training#66#children#F.conllu\n",
    "        doc_info = doc_info[0:-len('.conllu')]\n",
    "        # doc_info = training#66#children#F\n",
    "        splitted_doc_info = doc_info.split('#')\n",
    "        # splitted_doc_info = ['training', '66', 'children', 'F']\n",
    "        genre = splitted_doc_info[2]\n",
    "        # genre = children\n",
    "        gender = splitted_doc_info[3]\n",
    "        # gender = F\n",
    "        \n",
    "        labels.append(gender)\n",
    "    return labels"
   ]
  },
  {
   "cell_type": "code",
   "execution_count": 10,
   "id": "ddbce754-21f1-4b79-ae4e-a3625dbc8e4c",
   "metadata": {},
   "outputs": [],
   "source": [
    "labels = create_label_list(documents_info)"
   ]
  },
  {
   "cell_type": "code",
   "execution_count": 11,
   "id": "000476d8-253e-417c-b76a-b5db913463f5",
   "metadata": {},
   "outputs": [
    {
     "data": {
      "text/plain": [
       "['F', 'unknown', 'M', 'F', 'unknown', 'unknown', 'F', 'F', 'M', 'unknown']"
      ]
     },
     "execution_count": 11,
     "metadata": {},
     "output_type": "execute_result"
    }
   ],
   "source": [
    "labels[:10]"
   ]
  },
  {
   "cell_type": "markdown",
   "id": "9def750f-e9a1-4375-b950-e378df74c8b2",
   "metadata": {},
   "source": [
    "### Divisione tra training e test set"
   ]
  },
  {
   "cell_type": "code",
   "execution_count": 12,
   "id": "3247adcc-ea69-4157-9f88-7bf60d95cce6",
   "metadata": {},
   "outputs": [],
   "source": [
    "def train_test_split(documents_info, features, labels):\n",
    "    train_features = []\n",
    "    test_features = []\n",
    "    train_labels = []\n",
    "    test_filenames = []  # Salviamo i nomi dei file di test\n",
    "\n",
    "    for idx in range(len(documents_info)):  # Iteriamo sugli indici invece che su zip() come faceva Luca\n",
    "    #for doc_info, doc_features, doc_label in zip(documents_info, features, labels): #Altra versione for idx in range(len(documents_info))\n",
    "\n",
    "        doc_info = documents_info[idx]\n",
    "        doc_features = features[idx]\n",
    "        doc_label = labels[idx]\n",
    "    \n",
    "        if 'training' in doc_info:\n",
    "            train_features.append(doc_features)                # train_features.append(documents_info[idx])\n",
    "            train_labels.append(doc_label)\n",
    "        else: # if 'test' in file_name\n",
    "            test_features.append(doc_features)\n",
    "            test_filenames.append(doc_info)\n",
    "            \n",
    "    return train_features, train_labels, test_features, test_filenames"
   ]
  },
  {
   "cell_type": "code",
   "execution_count": 13,
   "id": "797625e3-1e25-48b7-8698-7f41d33a1fe8",
   "metadata": {},
   "outputs": [
    {
     "name": "stdout",
     "output_type": "stream",
     "text": [
      "Documenti training set: 200 200\n",
      "Documenti test set: 200 200\n"
     ]
    }
   ],
   "source": [
    "train_features, train_labels, test_features, test_filenames = train_test_split(documents_info, features, labels)\n",
    "\n",
    "print('Documenti training set:', len(train_features), len(train_labels))\n",
    "print('Documenti test set:', len(test_features), len(test_filenames))"
   ]
  },
  {
   "cell_type": "markdown",
   "id": "dd6d2d9c-60d1-4b4b-b5e4-0ec4c62429e2",
   "metadata": {},
   "source": [
    "## 5-fold cross validation su training set"
   ]
  },
  {
   "cell_type": "code",
   "execution_count": 14,
   "id": "ee4e01d0-fda7-47b0-9afa-6b8491b8a71f",
   "metadata": {},
   "outputs": [],
   "source": [
    "y_train = np.asarray(train_labels)\n",
    "splitter = KFold(n_splits=5, random_state=42, shuffle=True)\n",
    "folds = list(splitter.split(train_features))  # Dividiamo sui dati originali, non normalizzati"
   ]
  },
  {
   "cell_type": "code",
   "execution_count": 15,
   "id": "9cd27131-80d6-4fd5-a135-b118a82f5a84",
   "metadata": {},
   "outputs": [
    {
     "name": "stdout",
     "output_type": "stream",
     "text": [
      "\n",
      "=== Dimensioni dei Fold ===\n",
      "Fold 1: Training set = 160, Test set = 40\n",
      "Fold 2: Training set = 160, Test set = 40\n",
      "Fold 3: Training set = 160, Test set = 40\n",
      "Fold 4: Training set = 160, Test set = 40\n",
      "Fold 5: Training set = 160, Test set = 40\n"
     ]
    }
   ],
   "source": [
    "print(\"\\n=== Dimensioni dei Fold ===\")\n",
    "for i in range(len(folds)):\n",
    "    print(f\"Fold {i+1}: Training set = {len(folds[i][0])}, Test set = {len(folds[i][1])}\")\n",
    "# Il dataset di training viene diviso con la regola dell'80/20 come vediamo dalla stampa"
   ]
  },
  {
   "cell_type": "code",
   "execution_count": 16,
   "id": "395fd4db-053d-4cbe-87a6-2a355e50df11",
   "metadata": {},
   "outputs": [],
   "source": [
    "# Liste in cui salviamo le predizioni\n",
    "all_y_true = []\n",
    "all_y_pred = []"
   ]
  },
  {
   "cell_type": "code",
   "execution_count": 38,
   "id": "0378e115-3db0-4bcc-9992-16d66d136747",
   "metadata": {},
   "outputs": [
    {
     "name": "stdout",
     "output_type": "stream",
     "text": [
      "Accuracy fold 1: 0.6 \t baseline dummy: 0.475\n",
      "Accuracy fold 2: 0.375 \t baseline dummy: 0.425\n",
      "Accuracy fold 3: 0.325 \t baseline dummy: 0.475\n",
      "Accuracy fold 4: 0.475 \t baseline dummy: 0.4\n",
      "Accuracy fold 5: 0.575 \t baseline dummy: 0.425\n"
     ]
    }
   ],
   "source": [
    "for i in range(len(folds)):\n",
    "    train_ids, test_ids = folds[i]\n",
    "\n",
    "    fold_X_train = np.array(train_features)[train_ids]\n",
    "    fold_y_train = y_train[train_ids]\n",
    "    fold_X_test = np.array(train_features)[test_ids]\n",
    "    fold_y_test = y_train[test_ids]\n",
    "\n",
    "    # Normalizzazione dentro ogni fold (solo con i dati di training del fold)\n",
    "    scaler = MinMaxScaler()\n",
    "    fold_X_train = scaler.fit_transform(fold_X_train)\n",
    "    fold_X_test = scaler.transform(fold_X_test)\n",
    "\n",
    "    kfold_svc = LinearSVC(dual=False)\n",
    "    kfold_svc.fit(fold_X_train, fold_y_train)\n",
    "    fold_y_pred = kfold_svc.predict(fold_X_test)\n",
    "\n",
    "    fold_accuracy = accuracy_score(fold_y_test, fold_y_pred)\n",
    "\n",
    "    # Baseline con Dummy Classifier\n",
    "    dummy_clf = DummyClassifier(strategy=\"most_frequent\")\n",
    "    dummy_clf.fit(fold_X_train, fold_y_train)\n",
    "    dummy_score = dummy_clf.score(fold_X_test, fold_y_test)\n",
    "\n",
    "    all_y_true += fold_y_test.tolist()\n",
    "    all_y_pred += fold_y_pred.tolist()\n",
    "\n",
    "    print(f\"Accuracy fold {i+1}: {fold_accuracy} \\t baseline dummy: {dummy_score}\")"
   ]
  },
  {
   "cell_type": "code",
   "execution_count": 18,
   "id": "78def172-b569-40ab-b849-a0ec95073f6e",
   "metadata": {},
   "outputs": [
    {
     "name": "stdout",
     "output_type": "stream",
     "text": [
      "\n",
      "=== Risultati della 5-Fold Cross Validation ===\n",
      "              precision    recall  f1-score   support\n",
      "\n",
      "           F       0.47      0.49      0.48       100\n",
      "           M       0.47      0.45      0.46       100\n",
      "\n",
      "    accuracy                           0.47       200\n",
      "   macro avg       0.47      0.47      0.47       200\n",
      "weighted avg       0.47      0.47      0.47       200\n",
      "\n"
     ]
    },
    {
     "data": {
      "text/plain": [
       "<sklearn.metrics._plot.confusion_matrix.ConfusionMatrixDisplay at 0x237344ce660>"
      ]
     },
     "execution_count": 18,
     "metadata": {},
     "output_type": "execute_result"
    },
    {
     "data": {
      "image/png": "[encoded data removed]",
      "text/plain": [
       "<Figure size 640x480 with 2 Axes>"
      ]
     },
     "metadata": {},
     "output_type": "display_data"
    }
   ],
   "source": [
    "# Report finale della cross-validation\n",
    "print(\"\\n=== Risultati della 5-Fold Cross Validation ===\")\n",
    "print(classification_report(all_y_true, all_y_pred, zero_division=0))\n",
    "ConfusionMatrixDisplay.from_predictions(all_y_true, all_y_pred, xticks_rotation='vertical', cmap='Blues')"
   ]
  },
  {
   "cell_type": "markdown",
   "id": "d4d8df43-def9-4730-95b4-5a12b9b38efc",
   "metadata": {},
   "source": [
    "## Addestramento sul training set completo e "
   ]
  },
  {
   "cell_type": "markdown",
   "id": "69c5a248-7e4f-4742-b385-de9eba5d8487",
   "metadata": {},
   "source": [
    "### Normalizzazione"
   ]
  },
  {
   "cell_type": "code",
   "execution_count": 19,
   "id": "c81a9edd-a47a-4eb5-96a4-edd63022c4ac",
   "metadata": {},
   "outputs": [],
   "source": [
    "scaler = MinMaxScaler()\n",
    "X_train = scaler.fit_transform(train_features) # Normalizziamo tutto il training set\n",
    "X_test = scaler.transform(test_features) # train e test devono usare la stessa normalizzazione, quindi salvo come variabile lo scaler e uso solo transform sul test"
   ]
  },
  {
   "cell_type": "markdown",
   "id": "4d4e8400-a8f8-4609-98f9-4bfe2c1989c6",
   "metadata": {},
   "source": [
    "### Training del modello su tutto il training set"
   ]
  },
  {
   "cell_type": "code",
   "execution_count": 20,
   "id": "59eb5a06-110a-4072-8e11-ea5b10bd7aec",
   "metadata": {},
   "outputs": [
    {
     "data": {
      "text/html": [
       "<style>#sk-container-id-1 {\n",
       "  /* Definition of color scheme common for light and dark mode */\n",
       "  --sklearn-color-text: #000;\n",
       "  --sklearn-color-text-muted: #666;\n",
       "  --sklearn-color-line: gray;\n",
       "  /* Definition of color scheme for unfitted estimators */\n",
       "  --sklearn-color-unfitted-level-0: #fff5e6;\n",
       "  --sklearn-color-unfitted-level-1: #f6e4d2;\n",
       "  --sklearn-color-unfitted-level-2: #ffe0b3;\n",
       "  --sklearn-color-unfitted-level-3: chocolate;\n",
       "  /* Definition of color scheme for fitted estimators */\n",
       "  --sklearn-color-fitted-level-0: #f0f8ff;\n",
       "  --sklearn-color-fitted-level-1: #d4ebff;\n",
       "  --sklearn-color-fitted-level-2: #b3dbfd;\n",
       "  --sklearn-color-fitted-level-3: cornflowerblue;\n",
       "\n",
       "  /* Specific color for light theme */\n",
       "  --sklearn-color-text-on-default-background: var(--sg-text-color, var(--theme-code-foreground, var(--jp-content-font-color1, black)));\n",
       "  --sklearn-color-background: var(--sg-background-color, var(--theme-background, var(--jp-layout-color0, white)));\n",
       "  --sklearn-color-border-box: var(--sg-text-color, var(--theme-code-foreground, var(--jp-content-font-color1, black)));\n",
       "  --sklearn-color-icon: #696969;\n",
       "\n",
       "  @media (prefers-color-scheme: dark) {\n",
       "    /* Redefinition of color scheme for dark theme */\n",
       "    --sklearn-color-text-on-default-background: var(--sg-text-color, var(--theme-code-foreground, var(--jp-content-font-color1, white)));\n",
       "    --sklearn-color-background: var(--sg-background-color, var(--theme-background, var(--jp-layout-color0, #111)));\n",
       "    --sklearn-color-border-box: var(--sg-text-color, var(--theme-code-foreground, var(--jp-content-font-color1, white)));\n",
       "    --sklearn-color-icon: #878787;\n",
       "  }\n",
       "}\n",
       "\n",
       "#sk-container-id-1 {\n",
       "  color: var(--sklearn-color-text);\n",
       "}\n",
       "\n",
       "#sk-container-id-1 pre {\n",
       "  padding: 0;\n",
       "}\n",
       "\n",
       "#sk-container-id-1 input.sk-hidden--visually {\n",
       "  border: 0;\n",
       "  clip: rect(1px 1px 1px 1px);\n",
       "  clip: rect(1px, 1px, 1px, 1px);\n",
       "  height: 1px;\n",
       "  margin: -1px;\n",
       "  overflow: hidden;\n",
       "  padding: 0;\n",
       "  position: absolute;\n",
       "  width: 1px;\n",
       "}\n",
       "\n",
       "#sk-container-id-1 div.sk-dashed-wrapped {\n",
       "  border: 1px dashed var(--sklearn-color-line);\n",
       "  margin: 0 0.4em 0.5em 0.4em;\n",
       "  box-sizing: border-box;\n",
       "  padding-bottom: 0.4em;\n",
       "  background-color: var(--sklearn-color-background);\n",
       "}\n",
       "\n",
       "#sk-container-id-1 div.sk-container {\n",
       "  /* jupyter's `normalize.less` sets `[hidden] { display: none; }`\n",
       "     but bootstrap.min.css set `[hidden] { display: none !important; }`\n",
       "     so we also need the `!important` here to be able to override the\n",
       "     default hidden behavior on the sphinx rendered scikit-learn.org.\n",
       "     See: https://github.com/scikit-learn/scikit-learn/issues/21755 */\n",
       "  display: inline-block !important;\n",
       "  position: relative;\n",
       "}\n",
       "\n",
       "#sk-container-id-1 div.sk-text-repr-fallback {\n",
       "  display: none;\n",
       "}\n",
       "\n",
       "div.sk-parallel-item,\n",
       "div.sk-serial,\n",
       "div.sk-item {\n",
       "  /* draw centered vertical line to link estimators */\n",
       "  background-image: linear-gradient(var(--sklearn-color-text-on-default-background), var(--sklearn-color-text-on-default-background));\n",
       "  background-size: 2px 100%;\n",
       "  background-repeat: no-repeat;\n",
       "  background-position: center center;\n",
       "}\n",
       "\n",
       "/* Parallel-specific style estimator block */\n",
       "\n",
       "#sk-container-id-1 div.sk-parallel-item::after {\n",
       "  content: \"\";\n",
       "  width: 100%;\n",
       "  border-bottom: 2px solid var(--sklearn-color-text-on-default-background);\n",
       "  flex-grow: 1;\n",
       "}\n",
       "\n",
       "#sk-container-id-1 div.sk-parallel {\n",
       "  display: flex;\n",
       "  align-items: stretch;\n",
       "  justify-content: center;\n",
       "  background-color: var(--sklearn-color-background);\n",
       "  position: relative;\n",
       "}\n",
       "\n",
       "#sk-container-id-1 div.sk-parallel-item {\n",
       "  display: flex;\n",
       "  flex-direction: column;\n",
       "}\n",
       "\n",
       "#sk-container-id-1 div.sk-parallel-item:first-child::after {\n",
       "  align-self: flex-end;\n",
       "  width: 50%;\n",
       "}\n",
       "\n",
       "#sk-container-id-1 div.sk-parallel-item:last-child::after {\n",
       "  align-self: flex-start;\n",
       "  width: 50%;\n",
       "}\n",
       "\n",
       "#sk-container-id-1 div.sk-parallel-item:only-child::after {\n",
       "  width: 0;\n",
       "}\n",
       "\n",
       "/* Serial-specific style estimator block */\n",
       "\n",
       "#sk-container-id-1 div.sk-serial {\n",
       "  display: flex;\n",
       "  flex-direction: column;\n",
       "  align-items: center;\n",
       "  background-color: var(--sklearn-color-background);\n",
       "  padding-right: 1em;\n",
       "  padding-left: 1em;\n",
       "}\n",
       "\n",
       "\n",
       "/* Toggleable style: style used for estimator/Pipeline/ColumnTransformer box that is\n",
       "clickable and can be expanded/collapsed.\n",
       "- Pipeline and ColumnTransformer use this feature and define the default style\n",
       "- Estimators will overwrite some part of the style using the `sk-estimator` class\n",
       "*/\n",
       "\n",
       "/* Pipeline and ColumnTransformer style (default) */\n",
       "\n",
       "#sk-container-id-1 div.sk-toggleable {\n",
       "  /* Default theme specific background. It is overwritten whether we have a\n",
       "  specific estimator or a Pipeline/ColumnTransformer */\n",
       "  background-color: var(--sklearn-color-background);\n",
       "}\n",
       "\n",
       "/* Toggleable label */\n",
       "#sk-container-id-1 label.sk-toggleable__label {\n",
       "  cursor: pointer;\n",
       "  display: flex;\n",
       "  width: 100%;\n",
       "  margin-bottom: 0;\n",
       "  padding: 0.5em;\n",
       "  box-sizing: border-box;\n",
       "  text-align: center;\n",
       "  align-items: start;\n",
       "  justify-content: space-between;\n",
       "  gap: 0.5em;\n",
       "}\n",
       "\n",
       "#sk-container-id-1 label.sk-toggleable__label .caption {\n",
       "  font-size: 0.6rem;\n",
       "  font-weight: lighter;\n",
       "  color: var(--sklearn-color-text-muted);\n",
       "}\n",
       "\n",
       "#sk-container-id-1 label.sk-toggleable__label-arrow:before {\n",
       "  /* Arrow on the left of the label */\n",
       "  content: \"▸\";\n",
       "  float: left;\n",
       "  margin-right: 0.25em;\n",
       "  color: var(--sklearn-color-icon);\n",
       "}\n",
       "\n",
       "#sk-container-id-1 label.sk-toggleable__label-arrow:hover:before {\n",
       "  color: var(--sklearn-color-text);\n",
       "}\n",
       "\n",
       "/* Toggleable content - dropdown */\n",
       "\n",
       "#sk-container-id-1 div.sk-toggleable__content {\n",
       "  max-height: 0;\n",
       "  max-width: 0;\n",
       "  overflow: hidden;\n",
       "  text-align: left;\n",
       "  /* unfitted */\n",
       "  background-color: var(--sklearn-color-unfitted-level-0);\n",
       "}\n",
       "\n",
       "#sk-container-id-1 div.sk-toggleable__content.fitted {\n",
       "  /* fitted */\n",
       "  background-color: var(--sklearn-color-fitted-level-0);\n",
       "}\n",
       "\n",
       "#sk-container-id-1 div.sk-toggleable__content pre {\n",
       "  margin: 0.2em;\n",
       "  border-radius: 0.25em;\n",
       "  color: var(--sklearn-color-text);\n",
       "  /* unfitted */\n",
       "  background-color: var(--sklearn-color-unfitted-level-0);\n",
       "}\n",
       "\n",
       "#sk-container-id-1 div.sk-toggleable__content.fitted pre {\n",
       "  /* unfitted */\n",
       "  background-color: var(--sklearn-color-fitted-level-0);\n",
       "}\n",
       "\n",
       "#sk-container-id-1 input.sk-toggleable__control:checked~div.sk-toggleable__content {\n",
       "  /* Expand drop-down */\n",
       "  max-height: 200px;\n",
       "  max-width: 100%;\n",
       "  overflow: auto;\n",
       "}\n",
       "\n",
       "#sk-container-id-1 input.sk-toggleable__control:checked~label.sk-toggleable__label-arrow:before {\n",
       "  content: \"▾\";\n",
       "}\n",
       "\n",
       "/* Pipeline/ColumnTransformer-specific style */\n",
       "\n",
       "#sk-container-id-1 div.sk-label input.sk-toggleable__control:checked~label.sk-toggleable__label {\n",
       "  color: var(--sklearn-color-text);\n",
       "  background-color: var(--sklearn-color-unfitted-level-2);\n",
       "}\n",
       "\n",
       "#sk-container-id-1 div.sk-label.fitted input.sk-toggleable__control:checked~label.sk-toggleable__label {\n",
       "  background-color: var(--sklearn-color-fitted-level-2);\n",
       "}\n",
       "\n",
       "/* Estimator-specific style */\n",
       "\n",
       "/* Colorize estimator box */\n",
       "#sk-container-id-1 div.sk-estimator input.sk-toggleable__control:checked~label.sk-toggleable__label {\n",
       "  /* unfitted */\n",
       "  background-color: var(--sklearn-color-unfitted-level-2);\n",
       "}\n",
       "\n",
       "#sk-container-id-1 div.sk-estimator.fitted input.sk-toggleable__control:checked~label.sk-toggleable__label {\n",
       "  /* fitted */\n",
       "  background-color: var(--sklearn-color-fitted-level-2);\n",
       "}\n",
       "\n",
       "#sk-container-id-1 div.sk-label label.sk-toggleable__label,\n",
       "#sk-container-id-1 div.sk-label label {\n",
       "  /* The background is the default theme color */\n",
       "  color: var(--sklearn-color-text-on-default-background);\n",
       "}\n",
       "\n",
       "/* On hover, darken the color of the background */\n",
       "#sk-container-id-1 div.sk-label:hover label.sk-toggleable__label {\n",
       "  color: var(--sklearn-color-text);\n",
       "  background-color: var(--sklearn-color-unfitted-level-2);\n",
       "}\n",
       "\n",
       "/* Label box, darken color on hover, fitted */\n",
       "#sk-container-id-1 div.sk-label.fitted:hover label.sk-toggleable__label.fitted {\n",
       "  color: var(--sklearn-color-text);\n",
       "  background-color: var(--sklearn-color-fitted-level-2);\n",
       "}\n",
       "\n",
       "/* Estimator label */\n",
       "\n",
       "#sk-container-id-1 div.sk-label label {\n",
       "  font-family: monospace;\n",
       "  font-weight: bold;\n",
       "  display: inline-block;\n",
       "  line-height: 1.2em;\n",
       "}\n",
       "\n",
       "#sk-container-id-1 div.sk-label-container {\n",
       "  text-align: center;\n",
       "}\n",
       "\n",
       "/* Estimator-specific */\n",
       "#sk-container-id-1 div.sk-estimator {\n",
       "  font-family: monospace;\n",
       "  border: 1px dotted var(--sklearn-color-border-box);\n",
       "  border-radius: 0.25em;\n",
       "  box-sizing: border-box;\n",
       "  margin-bottom: 0.5em;\n",
       "  /* unfitted */\n",
       "  background-color: var(--sklearn-color-unfitted-level-0);\n",
       "}\n",
       "\n",
       "#sk-container-id-1 div.sk-estimator.fitted {\n",
       "  /* fitted */\n",
       "  background-color: var(--sklearn-color-fitted-level-0);\n",
       "}\n",
       "\n",
       "/* on hover */\n",
       "#sk-container-id-1 div.sk-estimator:hover {\n",
       "  /* unfitted */\n",
       "  background-color: var(--sklearn-color-unfitted-level-2);\n",
       "}\n",
       "\n",
       "#sk-container-id-1 div.sk-estimator.fitted:hover {\n",
       "  /* fitted */\n",
       "  background-color: var(--sklearn-color-fitted-level-2);\n",
       "}\n",
       "\n",
       "/* Specification for estimator info (e.g. \"i\" and \"?\") */\n",
       "\n",
       "/* Common style for \"i\" and \"?\" */\n",
       "\n",
       ".sk-estimator-doc-link,\n",
       "a:link.sk-estimator-doc-link,\n",
       "a:visited.sk-estimator-doc-link {\n",
       "  float: right;\n",
       "  font-size: smaller;\n",
       "  line-height: 1em;\n",
       "  font-family: monospace;\n",
       "  background-color: var(--sklearn-color-background);\n",
       "  border-radius: 1em;\n",
       "  height: 1em;\n",
       "  width: 1em;\n",
       "  text-decoration: none !important;\n",
       "  margin-left: 0.5em;\n",
       "  text-align: center;\n",
       "  /* unfitted */\n",
       "  border: var(--sklearn-color-unfitted-level-1) 1pt solid;\n",
       "  color: var(--sklearn-color-unfitted-level-1);\n",
       "}\n",
       "\n",
       ".sk-estimator-doc-link.fitted,\n",
       "a:link.sk-estimator-doc-link.fitted,\n",
       "a:visited.sk-estimator-doc-link.fitted {\n",
       "  /* fitted */\n",
       "  border: var(--sklearn-color-fitted-level-1) 1pt solid;\n",
       "  color: var(--sklearn-color-fitted-level-1);\n",
       "}\n",
       "\n",
       "/* On hover */\n",
       "div.sk-estimator:hover .sk-estimator-doc-link:hover,\n",
       ".sk-estimator-doc-link:hover,\n",
       "div.sk-label-container:hover .sk-estimator-doc-link:hover,\n",
       ".sk-estimator-doc-link:hover {\n",
       "  /* unfitted */\n",
       "  background-color: var(--sklearn-color-unfitted-level-3);\n",
       "  color: var(--sklearn-color-background);\n",
       "  text-decoration: none;\n",
       "}\n",
       "\n",
       "div.sk-estimator.fitted:hover .sk-estimator-doc-link.fitted:hover,\n",
       ".sk-estimator-doc-link.fitted:hover,\n",
       "div.sk-label-container:hover .sk-estimator-doc-link.fitted:hover,\n",
       ".sk-estimator-doc-link.fitted:hover {\n",
       "  /* fitted */\n",
       "  background-color: var(--sklearn-color-fitted-level-3);\n",
       "  color: var(--sklearn-color-background);\n",
       "  text-decoration: none;\n",
       "}\n",
       "\n",
       "/* Span, style for the box shown on hovering the info icon */\n",
       ".sk-estimator-doc-link span {\n",
       "  display: none;\n",
       "  z-index: 9999;\n",
       "  position: relative;\n",
       "  font-weight: normal;\n",
       "  right: .2ex;\n",
       "  padding: .5ex;\n",
       "  margin: .5ex;\n",
       "  width: min-content;\n",
       "  min-width: 20ex;\n",
       "  max-width: 50ex;\n",
       "  color: var(--sklearn-color-text);\n",
       "  box-shadow: 2pt 2pt 4pt #999;\n",
       "  /* unfitted */\n",
       "  background: var(--sklearn-color-unfitted-level-0);\n",
       "  border: .5pt solid var(--sklearn-color-unfitted-level-3);\n",
       "}\n",
       "\n",
       ".sk-estimator-doc-link.fitted span {\n",
       "  /* fitted */\n",
       "  background: var(--sklearn-color-fitted-level-0);\n",
       "  border: var(--sklearn-color-fitted-level-3);\n",
       "}\n",
       "\n",
       ".sk-estimator-doc-link:hover span {\n",
       "  display: block;\n",
       "}\n",
       "\n",
       "/* \"?\"-specific style due to the `<a>` HTML tag */\n",
       "\n",
       "#sk-container-id-1 a.estimator_doc_link {\n",
       "  float: right;\n",
       "  font-size: 1rem;\n",
       "  line-height: 1em;\n",
       "  font-family: monospace;\n",
       "  background-color: var(--sklearn-color-background);\n",
       "  border-radius: 1rem;\n",
       "  height: 1rem;\n",
       "  width: 1rem;\n",
       "  text-decoration: none;\n",
       "  /* unfitted */\n",
       "  color: var(--sklearn-color-unfitted-level-1);\n",
       "  border: var(--sklearn-color-unfitted-level-1) 1pt solid;\n",
       "}\n",
       "\n",
       "#sk-container-id-1 a.estimator_doc_link.fitted {\n",
       "  /* fitted */\n",
       "  border: var(--sklearn-color-fitted-level-1) 1pt solid;\n",
       "  color: var(--sklearn-color-fitted-level-1);\n",
       "}\n",
       "\n",
       "/* On hover */\n",
       "#sk-container-id-1 a.estimator_doc_link:hover {\n",
       "  /* unfitted */\n",
       "  background-color: var(--sklearn-color-unfitted-level-3);\n",
       "  color: var(--sklearn-color-background);\n",
       "  text-decoration: none;\n",
       "}\n",
       "\n",
       "#sk-container-id-1 a.estimator_doc_link.fitted:hover {\n",
       "  /* fitted */\n",
       "  background-color: var(--sklearn-color-fitted-level-3);\n",
       "}\n",
       "</style><div id=\"sk-container-id-1\" class=\"sk-top-container\"><div class=\"sk-text-repr-fallback\"><pre>LinearSVC(dual=False)</pre><b>In a Jupyter environment, please rerun this cell to show the HTML representation or trust the notebook. <br />On GitHub, the HTML representation is unable to render, please try loading this page with nbviewer.org.</b></div><div class=\"sk-container\" hidden><div class=\"sk-item\"><div class=\"sk-estimator fitted sk-toggleable\"><input class=\"sk-toggleable__control sk-hidden--visually\" id=\"sk-estimator-id-1\" type=\"checkbox\" checked><label for=\"sk-estimator-id-1\" class=\"sk-toggleable__label fitted sk-toggleable__label-arrow\"><div><div>LinearSVC</div></div><div><a class=\"sk-estimator-doc-link fitted\" rel=\"noreferrer\" target=\"_blank\" href=\"https://scikit-learn.org/1.6/modules/generated/sklearn.svm.LinearSVC.html\">?<span>Documentation for LinearSVC</span></a><span class=\"sk-estimator-doc-link fitted\">i<span>Fitted</span></span></div></label><div class=\"sk-toggleable__content fitted\"><pre>LinearSVC(dual=False)</pre></div> </div></div></div></div>"
      ],
      "text/plain": [
       "LinearSVC(dual=False)"
      ]
     },
     "execution_count": 20,
     "metadata": {},
     "output_type": "execute_result"
    }
   ],
   "source": [
    "svc = LinearSVC(dual=False)\n",
    "svc.fit(X_train, train_labels)"
   ]
  },
  {
   "cell_type": "markdown",
   "id": "90be813f-e291-4358-9633-41b1f1c1a4af",
   "metadata": {},
   "source": [
    "### Test del modello su tutto il test set"
   ]
  },
  {
   "cell_type": "code",
   "execution_count": 21,
   "id": "01086810-4115-434c-befa-192d0867eebf",
   "metadata": {},
   "outputs": [],
   "source": [
    "# Predizioni sul test set\n",
    "test_predictions = svc.predict(X_test)"
   ]
  },
  {
   "cell_type": "code",
   "execution_count": 22,
   "id": "b0886ee9-0d7f-4687-937d-c8dfff292387",
   "metadata": {},
   "outputs": [],
   "source": [
    "# Confronto con Dummy Classifier sul test set\n",
    "dummy_clf = DummyClassifier(strategy=\"most_frequent\")\n",
    "dummy_clf.fit(X_train, train_labels)\n",
    "dummy_predictions = dummy_clf.predict(X_test)"
   ]
  },
  {
   "cell_type": "code",
   "execution_count": 23,
   "id": "bc34095b-3f3f-4165-9716-ede85c4eca77",
   "metadata": {},
   "outputs": [],
   "source": [
    "# Estrazione degli ID dai file di test\n",
    "test_ids = [name.split(\"#\")[1] for name in test_filenames]  # Estrai solo l'ID numerico"
   ]
  },
  {
   "cell_type": "markdown",
   "id": "70b3adc9-c09d-4d68-9725-2da013607900",
   "metadata": {},
   "source": [
    "### Valutazione del modello con il gold set"
   ]
  },
  {
   "cell_type": "code",
   "execution_count": 24,
   "id": "a232a068-7ac5-4af7-9e60-c35b83fa18b9",
   "metadata": {},
   "outputs": [],
   "source": [
    "# Caricamento del file GOLD e conversione in DataFrame\n",
    "gold_df = pd.read_csv(gold_file_path, delimiter=\"\\t\", names=[\"ID\", \"True_Gender\"])"
   ]
  },
  {
   "cell_type": "code",
   "execution_count": 25,
   "id": "b81f4a43-4308-4c7d-8544-2632001e622e",
   "metadata": {},
   "outputs": [],
   "source": [
    "# Creiamo il df con le predizioni\n",
    "df_output = pd.DataFrame({\"ID\": test_ids, \"Predicted_Gender\": test_predictions})\n",
    "dummy_output = pd.DataFrame({\"ID\": test_ids, \"Dummy_Gender\": dummy_predictions})"
   ]
  },
  {
   "cell_type": "code",
   "execution_count": 26,
   "id": "a92576c7-26f0-476c-b14b-8e149df1072b",
   "metadata": {},
   "outputs": [],
   "source": [
    "# Convertiamo entrambe le colonne \"ID\" in stringa per evitare errori di merge\n",
    "df_output[\"ID\"] = df_output[\"ID\"].astype(str)\n",
    "gold_df[\"ID\"] = gold_df[\"ID\"].astype(str)"
   ]
  },
  {
   "cell_type": "code",
   "execution_count": 27,
   "id": "e3a230f2-5f04-4a87-9801-ba9e042d079a",
   "metadata": {},
   "outputs": [],
   "source": [
    "# Uniamo le predizioni con il gold standard\n",
    "merged_df = pd.merge(df_output, gold_df, on=\"ID\")\n",
    "merged_dummy_df = pd.merge(dummy_output, gold_df, on=\"ID\")"
   ]
  },
  {
   "cell_type": "markdown",
   "id": "8fc63b90-a7bc-4d8a-b024-0e7ee6650753",
   "metadata": {},
   "source": [
    "### Metriche di valutazione"
   ]
  },
  {
   "cell_type": "code",
   "execution_count": 28,
   "id": "8d1b2981-2a99-418f-8f1c-9bc823fd1703",
   "metadata": {},
   "outputs": [],
   "source": [
    "# Calcoliamo le prestazioni\n",
    "accuracy = accuracy_score(merged_df[\"True_Gender\"], merged_df[\"Predicted_Gender\"])\n",
    "dummy_accuracy = accuracy_score(merged_dummy_df[\"True_Gender\"], merged_dummy_df[\"Dummy_Gender\"])"
   ]
  },
  {
   "cell_type": "code",
   "execution_count": 29,
   "id": "4adadadb-466a-4b65-b088-5d930c46f2c6",
   "metadata": {},
   "outputs": [
    {
     "name": "stdout",
     "output_type": "stream",
     "text": [
      "\n",
      "=== Risultati sul Test Set ===\n",
      "Accuratezza SVM: 0.4950\n",
      "Accuratezza Dummy: 0.5000\n",
      "              precision    recall  f1-score   support\n",
      "\n",
      "           F       0.50      0.63      0.56       100\n",
      "           M       0.49      0.36      0.42       100\n",
      "\n",
      "    accuracy                           0.49       200\n",
      "   macro avg       0.49      0.49      0.49       200\n",
      "weighted avg       0.49      0.49      0.49       200\n",
      "\n"
     ]
    }
   ],
   "source": [
    "print(\"\\n=== Risultati sul Test Set ===\")\n",
    "print(f\"Accuratezza SVM: {accuracy:.4f}\")\n",
    "print(f\"Accuratezza Dummy: {dummy_accuracy:.4f}\")\n",
    "print(classification_report(merged_df[\"True_Gender\"], merged_df[\"Predicted_Gender\"]))\n",
    "# support è il numero di campioni reali presenti per ciascuna classe"
   ]
  },
  {
   "cell_type": "code",
   "execution_count": 35,
   "id": "6a2e22f8-5019-489a-971d-fd0df82e9544",
   "metadata": {},
   "outputs": [
    {
     "data": {
      "image/png": "[encoded data removed]",
      "text/plain": [
       "<Figure size 640x480 with 2 Axes>"
      ]
     },
     "metadata": {},
     "output_type": "display_data"
    }
   ],
   "source": [
    "# Matrice di Confusione\n",
    "ConfusionMatrixDisplay.from_predictions(\n",
    "    merged_df[\"True_Gender\"], merged_df[\"Predicted_Gender\"], xticks_rotation='vertical', cmap='BuPu'\n",
    ");"
   ]
  },
  {
   "cell_type": "markdown",
   "id": "4131b021-49df-4d38-988b-a05aecc43b27",
   "metadata": {},
   "source": [
    "## 15 features più importanti"
   ]
  },
  {
   "cell_type": "code",
   "execution_count": 31,
   "id": "c308f56b-dd88-41e1-bb16-837fb25778ee",
   "metadata": {},
   "outputs": [],
   "source": [
    "coefs = svc.coef_[0]  # Coefficienti della SVM\n",
    "feature_importances = {feature: abs(coef) for feature, coef in zip(features_names, coefs)}  # Valori assoluti\n",
    "sorted_features = sorted(feature_importances.items(), key=lambda x: x[1], reverse=True)[:15]  # Primi 15"
   ]
  },
  {
   "cell_type": "code",
   "execution_count": 32,
   "id": "7f96c91e-8e50-463e-8240-342583e20f10",
   "metadata": {},
   "outputs": [
    {
     "name": "stdout",
     "output_type": "stream",
     "text": [
      "\n",
      "=== Top 15 Feature più importanti ===\n",
      "upos_dist_ADP: 1.3258\n",
      "char_per_tok: 1.2998\n",
      "subordinate_dist_4: 1.1234\n",
      "n_prepositional_chains: 1.0935\n",
      "upos_dist_SCONJ: 1.0359\n",
      "dep_dist_nsubj:pass: 1.0332\n",
      "verbs_tense_dist_Fut: 0.9940\n",
      "verbal_root_perc: 0.9260\n",
      "verbs_num_pers_dist_Plur+1: 0.9175\n",
      "upos_dist_VERB: 0.9067\n",
      "dep_dist_punct: 0.8859\n",
      "dep_dist_dislocated: 0.8347\n",
      "ttr_form_chunks_100: 0.7912\n",
      "verbs_mood_dist_Ind: 0.7803\n",
      "subordinate_dist_2: 0.7656\n"
     ]
    }
   ],
   "source": [
    "# Stampiamo le feature più importanti\n",
    "print(\"\\n=== Top 15 Feature più importanti ===\")\n",
    "for feature, importance in sorted_features:\n",
    "    print(f\"{feature}: {importance:.4f}\")"
   ]
  },
  {
   "cell_type": "code",
   "execution_count": 33,
   "id": "6d2f278d-32b0-4679-8021-ed839bb959c2",
   "metadata": {},
   "outputs": [
    {
     "data": {
      "image/png": "[encoded data removed]",
      "text/plain": [
       "<Figure size 1000x500 with 1 Axes>"
      ]
     },
     "metadata": {},
     "output_type": "display_data"
    }
   ],
   "source": [
    "# Plot delle feature più importanti\n",
    "features, importances = zip(*sorted_features)\n",
    "plt.figure(figsize=(10, 5))\n",
    "plt.barh(features, importances, align=\"center\")\n",
    "plt.xlabel(\"Importanza\")\n",
    "plt.title(\"Top 15 Feature più importanti\")\n",
    "plt.gca().invert_yaxis()\n",
    "plt.show()"
   ]
  }
 ],
 "metadata": {
  "kernelspec": {
   "display_name": "Python 3 (ipykernel)",
   "language": "python",
   "name": "python3"
  },
  "language_info": {
   "codemirror_mode": {
    "name": "ipython",
    "version": 3
   },
   "file_extension": ".py",
   "mimetype": "text/x-python",
   "name": "python",
   "nbconvert_exporter": "python",
   "pygments_lexer": "ipython3",
   "version": "3.13.1"
  }
 },
 "nbformat": 4,
 "nbformat_minor": 5
}
